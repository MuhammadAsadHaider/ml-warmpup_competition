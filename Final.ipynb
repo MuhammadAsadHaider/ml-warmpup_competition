{
 "cells": [
  {
   "cell_type": "raw",
   "id": "4e03fc92-2447-4d2b-8abc-fcf7f1bcf3ed",
   "metadata": {
    "tags": []
   },
   "source": [
    "%pip install sklearn numpy pandas"
   ]
  },
  {
   "cell_type": "code",
   "execution_count": 1,
   "id": "99444bb7-1b5e-49e8-ba80-f8934ec9a820",
   "metadata": {
    "tags": []
   },
   "outputs": [],
   "source": [
    "#### data analysis and wrangling\n",
    "import pandas as pd\n",
    "import numpy as np\n",
    "import random as rnd\n",
    "\n",
    "# machine learning\n",
    "from sklearn.svm import SVC, LinearSVC\n",
    "from sklearn.ensemble import RandomForestClassifier\n",
    "from sklearn.neighbors import KNeighborsClassifier\n",
    "from sklearn.naive_bayes import GaussianNB\n",
    "from sklearn import preprocessing\n",
    "from sklearn.neural_network import MLPClassifier\n",
    "from sklearn.preprocessing import StandardScaler"
   ]
  },
  {
   "cell_type": "code",
   "execution_count": 2,
   "id": "efbf01da-b2ea-4b67-a7f1-6e2e199d250d",
   "metadata": {},
   "outputs": [],
   "source": [
    "train_df = pd.read_csv('train.csv')\n",
    "test_df = pd.read_csv('test.csv')\n",
    "\n",
    "combine = [train_df, test_df]"
   ]
  },
  {
   "cell_type": "code",
   "execution_count": 3,
   "id": "72f9ab9e",
   "metadata": {},
   "outputs": [],
   "source": [
    "test_df['Fare'].fillna(test_df['Fare'].dropna().median(), inplace=True)"
   ]
  },
  {
   "cell_type": "code",
   "execution_count": 4,
   "id": "e1592cec",
   "metadata": {},
   "outputs": [],
   "source": [
    "for dataset in combine:\n",
    "    dataset.loc[ dataset['Fare'] < 20, 'Fare'] = 0\n",
    "    dataset.loc[dataset['Fare'] >= 20, 'Fare'] = 1\n",
    "    dataset['Fare'] = dataset['Fare'].astype(int)"
   ]
  },
  {
   "cell_type": "code",
   "execution_count": 6,
   "id": "2253312a-a5ce-4dae-a4c9-75e68a9b803f",
   "metadata": {},
   "outputs": [],
   "source": [
    "for dataset in combine:\n",
    "    dataset['Cabin_not_present'] = dataset['Cabin'].isnull().values\n",
    "    dataset[\"Cabin_not_present\"] = dataset[\"Cabin_not_present\"].astype(int)"
   ]
  },
  {
   "cell_type": "code",
   "execution_count": 7,
   "id": "29a1b9cc-1f9d-4f38-b8f6-e07245bdc3cb",
   "metadata": {},
   "outputs": [],
   "source": [
    "train_df = train_df.drop(['Cabin'], axis=1)\n",
    "test_df = test_df.drop(['Cabin'], axis=1)\n",
    "combine = [train_df, test_df]"
   ]
  },
  {
   "cell_type": "code",
   "execution_count": 8,
   "id": "35d44ec5-70b8-49ec-a330-9a11ecf0f43d",
   "metadata": {},
   "outputs": [],
   "source": [
    "for dataset in combine:\n",
    "    dataset['Title'] = dataset.Name.str.extract(' ([A-Za-z]+)\\.', expand=False)"
   ]
  },
  {
   "cell_type": "code",
   "execution_count": 9,
   "id": "ca173345-96fc-4a66-9162-1226f18d3326",
   "metadata": {},
   "outputs": [],
   "source": [
    "for dataset in combine:\n",
    "    dataset['Title'] = dataset['Title'].replace(['Lady', 'Countess','Capt', 'Col',\\\n",
    " \t'Don', 'Dr', 'Major', 'Rev', 'Sir', 'Jonkheer', 'Dona'], 'Rare')\n",
    "\n",
    "    dataset['Title'] = dataset['Title'].replace('Mlle', 'Miss')\n",
    "    dataset['Title'] = dataset['Title'].replace('Ms', 'Miss')\n",
    "    dataset['Title'] = dataset['Title'].replace('Mme', 'Mrs')"
   ]
  },
  {
   "cell_type": "code",
   "execution_count": 10,
   "id": "2a0ab20b-2d7f-4936-bceb-096d4c1882b1",
   "metadata": {},
   "outputs": [],
   "source": [
    "title_mapping = {\"Mr\": 1, \"Miss\": 2, \"Mrs\": 3, \"Master\": 4, \"Rare\": 5}\n",
    "for dataset in combine:\n",
    "    dataset['Title'] = dataset['Title'].map(title_mapping)\n",
    "    dataset['Title'] = dataset['Title'].fillna(0)"
   ]
  },
  {
   "cell_type": "code",
   "execution_count": 11,
   "id": "309987ce",
   "metadata": {},
   "outputs": [],
   "source": [
    "for dataset in combine:\n",
    "    dataset['Sex'] = dataset['Sex'].map( {'female': 1, 'male': 0} ).astype(int)"
   ]
  },
  {
   "cell_type": "code",
   "execution_count": 12,
   "id": "b83d7369",
   "metadata": {},
   "outputs": [
    {
     "name": "stderr",
     "output_type": "stream",
     "text": [
      "C:\\Users\\HP\\AppData\\Local\\Temp\\ipykernel_12592\\3782662506.py:1: FutureWarning: The frame.append method is deprecated and will be removed from pandas in a future version. Use pandas.concat instead.\n",
      "  data_df = train_df.append(test_df)\n"
     ]
    },
    {
     "name": "stdout",
     "output_type": "stream",
     "text": [
      "Number of passengers with family survival information: 514\n"
     ]
    }
   ],
   "source": [
    "data_df = train_df.append(test_df)\n",
    "data_df['LastName'] = data_df.Name.str.extract('([A-Za-z]+),', expand=False)\n",
    "data_df['Fare'].fillna(data_df['Fare'].median(), inplace=True)\n",
    "\n",
    "DEFAULT_SURVIVAL_VALUE = 0.5\n",
    "data_df['Family_Survival'] = DEFAULT_SURVIVAL_VALUE\n",
    "\n",
    "for grp, grp_df in data_df.groupby(['LastName', 'Fare']):\n",
    "    \n",
    "    if (len(grp_df) != 1):\n",
    "        # A Family group is found.\n",
    "        for ind, row in grp_df.iterrows():\n",
    "            smax = grp_df.drop(ind)['Survived'].max()\n",
    "            smin = grp_df.drop(ind)['Survived'].min()\n",
    "            passID = row['PassengerId']\n",
    "            if (smax == 1.0):\n",
    "                data_df.loc[data_df['PassengerId'] == passID, 'Family_Survival'] = 1\n",
    "            elif (smin==0.0):\n",
    "                data_df.loc[data_df['PassengerId'] == passID, 'Family_Survival'] = 0"
   ]
  },
  {
   "cell_type": "code",
   "execution_count": 13,
   "id": "6d0e5e20",
   "metadata": {},
   "outputs": [],
   "source": [
    "train_df['Family_Survival'] = data_df['Family_Survival'][:891]\n",
    "test_df['Family_Survival'] = data_df['Family_Survival'][891:]"
   ]
  },
  {
   "cell_type": "code",
   "execution_count": 14,
   "id": "979fd1c3-7117-45a9-b079-7f3ce401bbbe",
   "metadata": {},
   "outputs": [
    {
     "data": {
      "text/plain": [
       "((891, 12), (418, 12))"
      ]
     },
     "execution_count": 14,
     "metadata": {},
     "output_type": "execute_result"
    }
   ],
   "source": [
    "train_df = train_df.drop(['Name','PassengerId'], axis=1)\n",
    "test_df = test_df.drop(['Name'], axis=1)\n",
    "combine = [train_df, test_df]\n",
    "train_df.shape, test_df.shape"
   ]
  },
  {
   "cell_type": "code",
   "execution_count": 15,
   "id": "45984a9e-9471-4757-9350-ca4100e240c4",
   "metadata": {},
   "outputs": [
    {
     "data": {
      "text/html": [
       "<div>\n",
       "<style scoped>\n",
       "    .dataframe tbody tr th:only-of-type {\n",
       "        vertical-align: middle;\n",
       "    }\n",
       "\n",
       "    .dataframe tbody tr th {\n",
       "        vertical-align: top;\n",
       "    }\n",
       "\n",
       "    .dataframe thead th {\n",
       "        text-align: right;\n",
       "    }\n",
       "</style>\n",
       "<table border=\"1\" class=\"dataframe\">\n",
       "  <thead>\n",
       "    <tr style=\"text-align: right;\">\n",
       "      <th></th>\n",
       "      <th>Survived</th>\n",
       "      <th>Pclass</th>\n",
       "      <th>Sex</th>\n",
       "      <th>Age</th>\n",
       "      <th>SibSp</th>\n",
       "      <th>Parch</th>\n",
       "      <th>Fare</th>\n",
       "      <th>Cabin_not_present</th>\n",
       "      <th>Title</th>\n",
       "      <th>Family_Survival</th>\n",
       "    </tr>\n",
       "  </thead>\n",
       "  <tbody>\n",
       "    <tr>\n",
       "      <th>Survived</th>\n",
       "      <td>1.000000</td>\n",
       "      <td>-0.338481</td>\n",
       "      <td>0.543351</td>\n",
       "      <td>-0.077221</td>\n",
       "      <td>-0.035322</td>\n",
       "      <td>0.081629</td>\n",
       "      <td>0.255496</td>\n",
       "      <td>-0.316912</td>\n",
       "      <td>0.407753</td>\n",
       "      <td>0.266836</td>\n",
       "    </tr>\n",
       "    <tr>\n",
       "      <th>Pclass</th>\n",
       "      <td>-0.338481</td>\n",
       "      <td>1.000000</td>\n",
       "      <td>-0.131900</td>\n",
       "      <td>-0.369226</td>\n",
       "      <td>0.083081</td>\n",
       "      <td>0.018443</td>\n",
       "      <td>-0.652835</td>\n",
       "      <td>0.725541</td>\n",
       "      <td>-0.173929</td>\n",
       "      <td>-0.259495</td>\n",
       "    </tr>\n",
       "    <tr>\n",
       "      <th>Sex</th>\n",
       "      <td>0.543351</td>\n",
       "      <td>-0.131900</td>\n",
       "      <td>1.000000</td>\n",
       "      <td>-0.093254</td>\n",
       "      <td>0.114631</td>\n",
       "      <td>0.245489</td>\n",
       "      <td>0.187864</td>\n",
       "      <td>-0.140391</td>\n",
       "      <td>0.502713</td>\n",
       "      <td>0.013458</td>\n",
       "    </tr>\n",
       "    <tr>\n",
       "      <th>Age</th>\n",
       "      <td>-0.077221</td>\n",
       "      <td>-0.369226</td>\n",
       "      <td>-0.093254</td>\n",
       "      <td>1.000000</td>\n",
       "      <td>-0.308247</td>\n",
       "      <td>-0.189119</td>\n",
       "      <td>0.127828</td>\n",
       "      <td>-0.249732</td>\n",
       "      <td>-0.104766</td>\n",
       "      <td>0.058051</td>\n",
       "    </tr>\n",
       "    <tr>\n",
       "      <th>SibSp</th>\n",
       "      <td>-0.035322</td>\n",
       "      <td>0.083081</td>\n",
       "      <td>0.114631</td>\n",
       "      <td>-0.308247</td>\n",
       "      <td>1.000000</td>\n",
       "      <td>0.414838</td>\n",
       "      <td>0.359494</td>\n",
       "      <td>0.040460</td>\n",
       "      <td>0.269623</td>\n",
       "      <td>-0.174454</td>\n",
       "    </tr>\n",
       "    <tr>\n",
       "      <th>Parch</th>\n",
       "      <td>0.081629</td>\n",
       "      <td>0.018443</td>\n",
       "      <td>0.245489</td>\n",
       "      <td>-0.189119</td>\n",
       "      <td>0.414838</td>\n",
       "      <td>1.000000</td>\n",
       "      <td>0.376642</td>\n",
       "      <td>-0.036987</td>\n",
       "      <td>0.315784</td>\n",
       "      <td>-0.008292</td>\n",
       "    </tr>\n",
       "    <tr>\n",
       "      <th>Fare</th>\n",
       "      <td>0.255496</td>\n",
       "      <td>-0.652835</td>\n",
       "      <td>0.187864</td>\n",
       "      <td>0.127828</td>\n",
       "      <td>0.359494</td>\n",
       "      <td>0.376642</td>\n",
       "      <td>1.000000</td>\n",
       "      <td>-0.497120</td>\n",
       "      <td>0.285035</td>\n",
       "      <td>0.103335</td>\n",
       "    </tr>\n",
       "    <tr>\n",
       "      <th>Cabin_not_present</th>\n",
       "      <td>-0.316912</td>\n",
       "      <td>0.725541</td>\n",
       "      <td>-0.140391</td>\n",
       "      <td>-0.249732</td>\n",
       "      <td>0.040460</td>\n",
       "      <td>-0.036987</td>\n",
       "      <td>-0.497120</td>\n",
       "      <td>1.000000</td>\n",
       "      <td>-0.133390</td>\n",
       "      <td>-0.200943</td>\n",
       "    </tr>\n",
       "    <tr>\n",
       "      <th>Title</th>\n",
       "      <td>0.407753</td>\n",
       "      <td>-0.173929</td>\n",
       "      <td>0.502713</td>\n",
       "      <td>-0.104766</td>\n",
       "      <td>0.269623</td>\n",
       "      <td>0.315784</td>\n",
       "      <td>0.285035</td>\n",
       "      <td>-0.133390</td>\n",
       "      <td>1.000000</td>\n",
       "      <td>0.044016</td>\n",
       "    </tr>\n",
       "    <tr>\n",
       "      <th>Family_Survival</th>\n",
       "      <td>0.266836</td>\n",
       "      <td>-0.259495</td>\n",
       "      <td>0.013458</td>\n",
       "      <td>0.058051</td>\n",
       "      <td>-0.174454</td>\n",
       "      <td>-0.008292</td>\n",
       "      <td>0.103335</td>\n",
       "      <td>-0.200943</td>\n",
       "      <td>0.044016</td>\n",
       "      <td>1.000000</td>\n",
       "    </tr>\n",
       "  </tbody>\n",
       "</table>\n",
       "</div>"
      ],
      "text/plain": [
       "                   Survived    Pclass       Sex       Age     SibSp     Parch  \\\n",
       "Survived           1.000000 -0.338481  0.543351 -0.077221 -0.035322  0.081629   \n",
       "Pclass            -0.338481  1.000000 -0.131900 -0.369226  0.083081  0.018443   \n",
       "Sex                0.543351 -0.131900  1.000000 -0.093254  0.114631  0.245489   \n",
       "Age               -0.077221 -0.369226 -0.093254  1.000000 -0.308247 -0.189119   \n",
       "SibSp             -0.035322  0.083081  0.114631 -0.308247  1.000000  0.414838   \n",
       "Parch              0.081629  0.018443  0.245489 -0.189119  0.414838  1.000000   \n",
       "Fare               0.255496 -0.652835  0.187864  0.127828  0.359494  0.376642   \n",
       "Cabin_not_present -0.316912  0.725541 -0.140391 -0.249732  0.040460 -0.036987   \n",
       "Title              0.407753 -0.173929  0.502713 -0.104766  0.269623  0.315784   \n",
       "Family_Survival    0.266836 -0.259495  0.013458  0.058051 -0.174454 -0.008292   \n",
       "\n",
       "                       Fare  Cabin_not_present     Title  Family_Survival  \n",
       "Survived           0.255496          -0.316912  0.407753         0.266836  \n",
       "Pclass            -0.652835           0.725541 -0.173929        -0.259495  \n",
       "Sex                0.187864          -0.140391  0.502713         0.013458  \n",
       "Age                0.127828          -0.249732 -0.104766         0.058051  \n",
       "SibSp              0.359494           0.040460  0.269623        -0.174454  \n",
       "Parch              0.376642          -0.036987  0.315784        -0.008292  \n",
       "Fare               1.000000          -0.497120  0.285035         0.103335  \n",
       "Cabin_not_present -0.497120           1.000000 -0.133390        -0.200943  \n",
       "Title              0.285035          -0.133390  1.000000         0.044016  \n",
       "Family_Survival    0.103335          -0.200943  0.044016         1.000000  "
      ]
     },
     "execution_count": 15,
     "metadata": {},
     "output_type": "execute_result"
    }
   ],
   "source": [
    "train_df.corr()"
   ]
  },
  {
   "cell_type": "code",
   "execution_count": 16,
   "id": "d8a717c5-dbce-4941-a8c1-8f543c8fad5f",
   "metadata": {},
   "outputs": [],
   "source": [
    "train_df = train_df.drop(['Parch', 'SibSp', 'Age', 'Embarked','Ticket'], axis=1)\n",
    "test_df = test_df.drop(['Parch', 'SibSp', 'Age','Embarked','Ticket'], axis=1)"
   ]
  },
  {
   "cell_type": "code",
   "execution_count": 17,
   "id": "068b0e10-4aa2-4664-a5f6-bda0b9c0e511",
   "metadata": {},
   "outputs": [
    {
     "data": {
      "text/plain": [
       "((891, 6), (891,), (418, 6))"
      ]
     },
     "execution_count": 17,
     "metadata": {},
     "output_type": "execute_result"
    }
   ],
   "source": [
    "X_train = train_df.drop(\"Survived\", axis=1)\n",
    "Y_train = train_df[\"Survived\"]\n",
    "X_test  = test_df.drop(\"PassengerId\", axis=1).copy()\n",
    "X_train.shape, Y_train.shape, X_test.shape"
   ]
  },
  {
   "cell_type": "code",
   "execution_count": 18,
   "id": "ecfe775f-cf1f-4293-8360-db26d84080d6",
   "metadata": {},
   "outputs": [],
   "source": [
    "scaler = StandardScaler()\n",
    "scaler.fit(X_train)\n",
    "X_train = scaler.transform(X_train)\n",
    "X_test = scaler.transform(X_test)"
   ]
  },
  {
   "cell_type": "code",
   "execution_count": 19,
   "id": "4e620ac2-4228-486b-aacd-138d7b33810c",
   "metadata": {},
   "outputs": [],
   "source": [
    "# Support Vector Machines\n",
    "\n",
    "svc = SVC()\n",
    "svc.fit(X_train, Y_train)\n",
    "Y_pred = svc.predict(X_test)\n",
    "acc_svc = round(svc.score(X_train, Y_train) * 100, 2)"
   ]
  },
  {
   "cell_type": "code",
   "execution_count": 20,
   "id": "4fe81fc9-8259-4f4c-937e-5266af5559b3",
   "metadata": {},
   "outputs": [],
   "source": [
    "A = np.column_stack((Y_pred,))"
   ]
  },
  {
   "cell_type": "code",
   "execution_count": 21,
   "id": "3a1a3ba6-4a5c-49e8-8160-d9800145637f",
   "metadata": {},
   "outputs": [],
   "source": [
    "# KNN\n",
    "\n",
    "knn = KNeighborsClassifier(n_neighbors = 3)\n",
    "knn.fit(X_train, Y_train)\n",
    "Y_pred = knn.predict(X_test)\n",
    "acc_knn = round(knn.score(X_train, Y_train) * 100, 2)"
   ]
  },
  {
   "cell_type": "code",
   "execution_count": 22,
   "id": "c7bb399b-7d56-494e-b849-83b56c1a809b",
   "metadata": {},
   "outputs": [],
   "source": [
    "A = np.column_stack((A,Y_pred))"
   ]
  },
  {
   "cell_type": "code",
   "execution_count": 23,
   "id": "0a1480d6-6778-4df6-aa7f-6f779f844281",
   "metadata": {},
   "outputs": [],
   "source": [
    "# Gaussian Naive Bayes\n",
    "\n",
    "gaussian = GaussianNB()\n",
    "gaussian.fit(X_train, Y_train)\n",
    "Y_pred = gaussian.predict(X_test)\n",
    "acc_gaussian = round(gaussian.score(X_train, Y_train) * 100, 2)"
   ]
  },
  {
   "cell_type": "code",
   "execution_count": 24,
   "id": "71be0f91-9b5e-41e5-9b4f-56ddf4b8ff4c",
   "metadata": {},
   "outputs": [],
   "source": [
    "A = np.column_stack((A,Y_pred))"
   ]
  },
  {
   "cell_type": "code",
   "execution_count": 25,
   "id": "1ba56305-ea2b-40c4-9ff2-30d3a8020742",
   "metadata": {},
   "outputs": [],
   "source": [
    "# Linear SVC\n",
    "\n",
    "linear_svc = LinearSVC()\n",
    "linear_svc.fit(X_train, Y_train)\n",
    "Y_pred = linear_svc.predict(X_test)\n",
    "acc_linear_svc = round(linear_svc.score(X_train, Y_train) * 100, 2)"
   ]
  },
  {
   "cell_type": "code",
   "execution_count": 26,
   "id": "001dcdf8-5198-4726-bab0-af388d3c8d5a",
   "metadata": {},
   "outputs": [],
   "source": [
    "A = np.column_stack((A,Y_pred))"
   ]
  },
  {
   "cell_type": "code",
   "execution_count": 27,
   "id": "d04e44ec-c1d0-44f0-ad1e-eb682e418241",
   "metadata": {},
   "outputs": [],
   "source": [
    "# Random Forest\n",
    "\n",
    "random_forest = RandomForestClassifier(n_estimators=1000)\n",
    "random_forest.fit(X_train, Y_train)\n",
    "Y_pred = random_forest.predict(X_test)\n",
    "acc_random_forest = round(random_forest.score(X_train, Y_train) * 100, 2)"
   ]
  },
  {
   "cell_type": "code",
   "execution_count": 28,
   "id": "c0d6f4ff-f8b6-4499-97fc-ab7f26ef6a29",
   "metadata": {},
   "outputs": [],
   "source": [
    "A = np.column_stack((A,Y_pred))"
   ]
  },
  {
   "cell_type": "code",
   "execution_count": 33,
   "id": "c2c8cadb",
   "metadata": {},
   "outputs": [],
   "source": [
    "# Neural network with sklearn\n",
    "mlp = MLPClassifier(hidden_layer_sizes=(8,16,16,8), max_iter=10000, solver='lbfgs', random_state=1)\n",
    "mlp.fit(X_train, Y_train)\n",
    "Y_pred = mlp.predict(X_test)\n",
    "acc_mlp = round(mlp.score(X_train, Y_train) * 100, 2)"
   ]
  },
  {
   "cell_type": "code",
   "execution_count": 30,
   "id": "fd8535cc",
   "metadata": {},
   "outputs": [],
   "source": [
    "A = np.column_stack((A,Y_pred))"
   ]
  },
  {
   "cell_type": "code",
   "execution_count": 31,
   "id": "b21b0154-a85b-4641-aa62-21119d2cda6e",
   "metadata": {},
   "outputs": [],
   "source": [
    "avg = np.round(np.mean(A, axis=1)).astype(int)"
   ]
  },
  {
   "cell_type": "code",
   "execution_count": 32,
   "id": "f2413c89-f234-4f6f-8c52-e55bee229a7f",
   "metadata": {},
   "outputs": [],
   "source": [
    "submission = pd.DataFrame({\n",
    "        \"PassengerId\": test_df[\"PassengerId\"],\n",
    "        \"Survived\": avg\n",
    "    })\n",
    "submission.to_csv('improved.csv', index=False)"
   ]
  }
 ],
 "metadata": {
  "kernelspec": {
   "display_name": "Python 3.10.5 64-bit",
   "language": "python",
   "name": "python3"
  },
  "language_info": {
   "codemirror_mode": {
    "name": "ipython",
    "version": 3
   },
   "file_extension": ".py",
   "mimetype": "text/x-python",
   "name": "python",
   "nbconvert_exporter": "python",
   "pygments_lexer": "ipython3",
   "version": "3.10.5"
  },
  "vscode": {
   "interpreter": {
    "hash": "26de051ba29f2982a8de78e945f0abaf191376122a1563185a90213a26c5da77"
   }
  }
 },
 "nbformat": 4,
 "nbformat_minor": 5
}
